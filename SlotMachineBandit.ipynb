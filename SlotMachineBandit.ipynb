{
  "nbformat": 4,
  "nbformat_minor": 0,
  "metadata": {
    "colab": {
      "name": "SlotMachineBandit.ipynb",
      "provenance": [],
      "collapsed_sections": [],
      "authorship_tag": "ABX9TyOddRNn4wEauad5rTNKPeU3",
      "include_colab_link": true
    },
    "kernelspec": {
      "name": "python3",
      "display_name": "Python 3"
    },
    "language_info": {
      "name": "python"
    }
  },
  "cells": [
    {
      "cell_type": "markdown",
      "metadata": {
        "id": "view-in-github",
        "colab_type": "text"
      },
      "source": [
        "<a href=\"https://colab.research.google.com/github/Orixtosius/AI/blob/main/SlotMachineBandit.ipynb\" target=\"_parent\"><img src=\"https://colab.research.google.com/assets/colab-badge.svg\" alt=\"Open In Colab\"/></a>"
      ]
    },
    {
      "cell_type": "code",
      "source": [
        "import numpy as np\n",
        "import matplotlib.pyplot as plt"
      ],
      "metadata": {
        "id": "a0_Ha4neeFlO"
      },
      "execution_count": 3,
      "outputs": []
    },
    {
      "cell_type": "code",
      "source": [
        "np.random.random(1)[0]"
      ],
      "metadata": {
        "colab": {
          "base_uri": "https://localhost:8080/"
        },
        "id": "nigWdC-MizPG",
        "outputId": "cc082253-9a09-4deb-b75f-6216d0c2d414"
      },
      "execution_count": 6,
      "outputs": [
        {
          "output_type": "execute_result",
          "data": {
            "text/plain": [
              "0.7147884508786163"
            ]
          },
          "metadata": {},
          "execution_count": 6
        }
      ]
    },
    {
      "cell_type": "code",
      "execution_count": null,
      "metadata": {
        "id": "8CdGazZCcMnP"
      },
      "outputs": [],
      "source": [
        "class SlotMachine():\n",
        "  def __init__(self, machineId, fee, payouts):\n",
        "\n",
        "    self.machineId = machineId\n",
        "    self.credit = 100000\n",
        "    self.status = 'active'\n",
        "    self.history = dict()\n",
        "    self.fee = fee\n",
        "    self.payouts = payouts\n",
        "\n",
        "  def slotProbability(self, User):\n",
        "\n",
        "    p = np.random.random(1)[0]\n",
        "    amount = self.transferMoney(self, p < 0.025 or p > 0.0975, User.name)\n",
        "    User.transferToPlayer(self, User.name)\n",
        "  \n",
        "  def transferMoney(self, result, user):\n",
        "\n",
        "    if result:\n",
        "      amount = -10000\n",
        "    else:\n",
        "      amount = 1000\n",
        "\n",
        "    if self.history.has_key(user):\n",
        "      self.history[user].append(amount)\n",
        "    else:\n",
        "      self.history.update({f'{user}': [amount]})\n",
        "      \n",
        "    self.credit =+ amount\n",
        "    if self.credit < 0 or self.credit + amount == 0:\n",
        "      self.shutDown()\n",
        "      if self.credit < 0:\n",
        "        print(f'This machine does not have enough money to pay you, please contact with our supervisor')\n",
        "      else:    \n",
        "        print('This machine has\trun out of money.\\nPlease play with another machines')\n",
        "    return amount\n",
        "\n",
        "  def shutDown(self):\n",
        "    self.status = 'passive'\n",
        "  \n",
        "  def startUp(self):\n",
        "    self.credit = 100000\n",
        "    self.status = 'active'"
      ]
    },
    {
      "cell_type": "code",
      "source": [
        "class Player():\n",
        "  def __init__(self, name, money):\n",
        "    self.name = name\n",
        "    self.money = money\n",
        "    self.pastPlays = dict()\n",
        "  \n",
        "  def choiceOfSlotMachine(self, machineID):\n",
        "    if self.pastPlays.has_key(machineID):\n",
        "      self.pastPlays[machineID].append(1)\n",
        "    else:\n",
        "      self.pastPlays.update({f'{self.machineID}' : 1})\n",
        "\n",
        "  def playSlotMachine(self, machineID):\n",
        "  def transferToPlayer(self):"
      ],
      "metadata": {
        "id": "RV25L2zac8p_"
      },
      "execution_count": null,
      "outputs": []
    },
    {
      "cell_type": "code",
      "source": [
        "x = dict\n",
        "x = {'at' : [4]}\n",
        "x['at'].append(5)\n",
        "x"
      ],
      "metadata": {
        "colab": {
          "base_uri": "https://localhost:8080/"
        },
        "id": "N-XazFbrk-2V",
        "outputId": "e73bc248-225a-4e74-cbd5-6ee71d5468cb"
      },
      "execution_count": 18,
      "outputs": [
        {
          "output_type": "execute_result",
          "data": {
            "text/plain": [
              "{'at': [4, 5]}"
            ]
          },
          "metadata": {},
          "execution_count": 18
        }
      ]
    },
    {
      "cell_type": "code",
      "source": [
        "x = dict()"
      ],
      "metadata": {
        "id": "oml2IdK6lDoI"
      },
      "execution_count": 26,
      "outputs": []
    },
    {
      "cell_type": "code",
      "source": [
        "x.update({'y': [7]})\n",
        "x.update({'a': [2]})\n",
        "x['a'].append(3)\n",
        "x"
      ],
      "metadata": {
        "colab": {
          "base_uri": "https://localhost:8080/"
        },
        "id": "8nTJTtjLnHgy",
        "outputId": "22c4d04e-f5e4-4cae-815f-07291e615c6d"
      },
      "execution_count": 28,
      "outputs": [
        {
          "output_type": "execute_result",
          "data": {
            "text/plain": [
              "{'a': [2, 3], 'y': [7]}"
            ]
          },
          "metadata": {},
          "execution_count": 28
        }
      ]
    },
    {
      "cell_type": "code",
      "source": [
        ""
      ],
      "metadata": {
        "id": "W4HxLlFrnOQL"
      },
      "execution_count": null,
      "outputs": []
    }
  ]
}