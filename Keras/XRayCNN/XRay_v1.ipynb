{
 "cells": [
  {
   "cell_type": "code",
   "execution_count": 28,
   "metadata": {},
   "outputs": [],
   "source": [
    "import numpy as np\n",
    "import tensorflow as tf\n",
    "from keras.layers import Conv2D\n",
    "from keras.layers import Flatten,Dense\n",
    "from keras.layers import MaxPooling2D\n",
    "from keras.models import Model,Sequential\n",
    "import keras.losses\n",
    "from keras.preprocessing import image as im\n",
    "from keras.preprocessing.image import ImageDataGenerator\n",
    "import matplotlib.pyplot as plt"
   ]
  },
  {
   "cell_type": "code",
   "execution_count": 11,
   "metadata": {},
   "outputs": [],
   "source": [
    "test = '-/test'\n",
    "train = '-/train'"
   ]
  },
  {
   "cell_type": "code",
   "execution_count": 12,
   "metadata": {},
   "outputs": [],
   "source": [
    "datagen =ImageDataGenerator(rescale = 1.0/255.0,\n",
    "                horizontal_flip = True,\n",
    "                         zoom_range =.2,\n",
    "                         shear_range = 0.2,\n",
    "                         width_shift_range=0.01, \n",
    "                         height_shift_range=0.01                      \n",
    "                         )"
   ]
  },
  {
   "cell_type": "code",
   "execution_count": 13,
   "metadata": {},
   "outputs": [
    {
     "name": "stdout",
     "output_type": "stream",
     "text": [
      "Found 148 images belonging to 2 classes.\n"
     ]
    }
   ],
   "source": [
    "train = datagen.flow_from_directory(train,target_size=(224,224),class_mode='binary',color_mode='grayscale',batch_size=32,\n",
    "                               shuffle = True)"
   ]
  },
  {
   "cell_type": "code",
   "execution_count": 14,
   "metadata": {},
   "outputs": [
    {
     "name": "stdout",
     "output_type": "stream",
     "text": [
      "Found 40 images belonging to 2 classes.\n"
     ]
    }
   ],
   "source": [
    "valid = ImageDataGenerator(rescale = 1.0/255.0).flow_from_directory(test,target_size=(224,224),class_mode='binary',color_mode='grayscale',batch_size=32)"
   ]
  },
  {
   "cell_type": "code",
   "execution_count": 35,
   "metadata": {},
   "outputs": [],
   "source": [
    "model = Sequential()\n",
    "model.add(Conv2D(64,(3,3),input_shape=(224, 224,1)))\n",
    "model.add(MaxPooling2D(strides=(2,2)))\n",
    "model.add(Conv2D(64,(3,3)))\n",
    "model.add(MaxPooling2D(strides=(2,2)))\n",
    "model.add(Conv2D(64,(3,3)))\n",
    "model.add(MaxPooling2D(strides=(2,2)))\n",
    "model.add(Conv2D(64,(3,3)))\n",
    "model.add(MaxPooling2D(strides=(2,2)))\n",
    "model.add(Flatten())\n",
    "model.add(Dense(4096,activation='relu'))\n",
    "model.add(Dense(4096,activation='relu'))\n",
    "model.add(Dense(1,activation='sigmoid'))\n",
    "\n",
    "from tensorflow.keras.optimizers import Adam,RMSprop,SGD\n",
    "model.compile(optimizer = RMSprop(.001),loss='binary_crossentropy',metrics=['accuracy'])"
   ]
  },
  {
   "cell_type": "code",
   "execution_count": 16,
   "metadata": {
    "scrolled": false
   },
   "outputs": [
    {
     "name": "stdout",
     "output_type": "stream",
     "text": [
      "Model: \"sequential_1\"\n",
      "_________________________________________________________________\n",
      "Layer (type)                 Output Shape              Param #   \n",
      "=================================================================\n",
      "conv2d_4 (Conv2D)            (None, 222, 222, 64)      640       \n",
      "_________________________________________________________________\n",
      "max_pooling2d_4 (MaxPooling2 (None, 111, 111, 64)      0         \n",
      "_________________________________________________________________\n",
      "conv2d_5 (Conv2D)            (None, 109, 109, 64)      36928     \n",
      "_________________________________________________________________\n",
      "max_pooling2d_5 (MaxPooling2 (None, 54, 54, 64)        0         \n",
      "_________________________________________________________________\n",
      "conv2d_6 (Conv2D)            (None, 52, 52, 64)        36928     \n",
      "_________________________________________________________________\n",
      "max_pooling2d_6 (MaxPooling2 (None, 26, 26, 64)        0         \n",
      "_________________________________________________________________\n",
      "conv2d_7 (Conv2D)            (None, 24, 24, 64)        36928     \n",
      "_________________________________________________________________\n",
      "max_pooling2d_7 (MaxPooling2 (None, 12, 12, 64)        0         \n",
      "_________________________________________________________________\n",
      "flatten_1 (Flatten)          (None, 9216)              0         \n",
      "_________________________________________________________________\n",
      "dense_3 (Dense)              (None, 4096)              37752832  \n",
      "_________________________________________________________________\n",
      "dense_4 (Dense)              (None, 4096)              16781312  \n",
      "_________________________________________________________________\n",
      "dense_5 (Dense)              (None, 1)                 4097      \n",
      "=================================================================\n",
      "Total params: 54,649,665\n",
      "Trainable params: 54,649,665\n",
      "Non-trainable params: 0\n",
      "_________________________________________________________________\n"
     ]
    }
   ],
   "source": [
    "model.summary()"
   ]
  },
  {
   "cell_type": "code",
   "execution_count": 20,
   "metadata": {},
   "outputs": [
    {
     "name": "stdout",
     "output_type": "stream",
     "text": [
      "Epoch 1/5\n",
      "5/5 [==============================] - 10s 2s/step - loss: 0.6947 - accuracy: 0.4759 - val_loss: 0.6857 - val_accuracy: 0.5000\n",
      "Epoch 2/5\n",
      "5/5 [==============================] - 9s 2s/step - loss: 0.6944 - accuracy: 0.4882 - val_loss: 0.6834 - val_accuracy: 0.5500\n",
      "Epoch 3/5\n",
      "5/5 [==============================] - 9s 2s/step - loss: 0.6896 - accuracy: 0.5414 - val_loss: 0.6810 - val_accuracy: 0.5750\n",
      "Epoch 4/5\n",
      "5/5 [==============================] - 9s 2s/step - loss: 0.6912 - accuracy: 0.5039 - val_loss: 0.6788 - val_accuracy: 0.6000\n",
      "Epoch 5/5\n",
      "5/5 [==============================] - 9s 2s/step - loss: 0.6861 - accuracy: 0.5766 - val_loss: 0.6762 - val_accuracy: 0.6250\n"
     ]
    }
   ],
   "source": [
    "history = model.fit(train,validation_data=valid,epochs=5,batch_size =5)"
   ]
  },
  {
   "cell_type": "code",
   "execution_count": null,
   "metadata": {},
   "outputs": [],
   "source": []
  }
 ],
 "metadata": {
  "kernelspec": {
   "display_name": "Python 3",
   "language": "python",
   "name": "python3"
  },
  "language_info": {
   "codemirror_mode": {
    "name": "ipython",
    "version": 3
   },
   "file_extension": ".py",
   "mimetype": "text/x-python",
   "name": "python",
   "nbconvert_exporter": "python",
   "pygments_lexer": "ipython3",
   "version": "3.7.6"
  }
 },
 "nbformat": 4,
 "nbformat_minor": 4
}
