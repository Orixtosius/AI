{
 "cells": [
  {
   "cell_type": "code",
   "execution_count": 1,
   "metadata": {},
   "outputs": [],
   "source": [
    "import os\n",
    "import numpy as np\n",
    "import tensorflow as tf\n",
    "from keras.layers import Conv2D\n",
    "from keras.layers import Flatten,Dense\n",
    "from keras.layers import MaxPooling2D,AveragePooling2D\n",
    "from keras.models import Model,Sequential\n",
    "import keras.losses\n",
    "from keras.preprocessing import image as im\n",
    "from keras.preprocessing.image import ImageDataGenerator\n",
    "import matplotlib.pyplot as plt\n",
    "import numpy as np"
   ]
  },
  {
   "cell_type": "code",
   "execution_count": 2,
   "metadata": {
    "scrolled": true
   },
   "outputs": [
    {
     "name": "stdout",
     "output_type": "stream",
     "text": [
      "Found 148 images belonging to 2 classes.\n",
      "Found 40 images belonging to 2 classes.\n"
     ]
    }
   ],
   "source": [
    "datagen = ImageDataGenerator(\n",
    "    rescale=1./255,\n",
    "    zoom_range =.2,\n",
    "    shear_range = 0.2,\n",
    "    width_shift_range=0.02, \n",
    "    height_shift_range=0.02\n",
    ")\n",
    "\n",
    "train_im = datagen.flow_from_directory(\n",
    "    'C:/Users/gulte/Desktop/AI Exercises/Keras/XRay/xray_dataset_covid19/train',\n",
    "    batch_size=1,\n",
    "    save_prefix=\"jup-\",\n",
    "    save_format='png',\n",
    "    class_mode='binary',\n",
    "    color_mode='grayscale',\n",
    "    shuffle = True\n",
    ")\n",
    "\n",
    "validation_im = datagen.flow_from_directory(\n",
    "    'C:/Users/gulte/Desktop/AI Exercises/Keras/XRay/xray_dataset_covid19/test',\n",
    "    batch_size = 1,\n",
    "    save_prefix =\"jup-\",\n",
    "    save_format='png',\n",
    "    class_mode='binary',\n",
    "    color_mode='grayscale',\n",
    "    shuffle = True)"
   ]
  },
  {
   "cell_type": "code",
   "execution_count": 7,
   "metadata": {},
   "outputs": [],
   "source": [
    "model = Sequential()\n",
    "model.add(Conv2D(128,(3,3),activation='relu', padding = \"same\", kernel_initializer = \"random_normal\",\n",
    "                input_shape=(224, 224,1)))\n",
    "model.add(AveragePooling2D(pool_size=(2, 2),strides=(2,2)))\n",
    "model.add(Conv2D(256,(3,3),strides=(2,2),activation='relu',padding = \"same\", kernel_initializer = \"random_normal\"))\n",
    "model.add(MaxPooling2D(strides=(2,2)))\n",
    "model.add(Conv2D(256,(3,3),strides=(2,2),activation='relu',padding = \"valid\", kernel_initializer = \"he_normal\"))\n",
    "model.add(MaxPooling2D(strides=(2,2)))\n",
    "model.add(Conv2D(256,(3,3),strides=(2,2),activation='relu',padding = \"same\", kernel_initializer = \"he_normal\"))\n",
    "model.add(MaxPooling2D(strides=(2,2)))\n",
    "model.add(Conv2D(256,(3,3),strides=(2,2),activation='relu',padding = \"same\", kernel_initializer = \"he_normal\"))\n",
    "        \n",
    "model.add(Flatten())\n",
    "model.add(Dense(256, activation = \"relu\"))\n",
    "model.add(Dense(128, activation = \"relu\"))\n",
    "model.add(Dense(128, activation = \"softmax\"))\n",
    "model.add(Dense(1, activation = \"sigmoid\"))"
   ]
  },
  {
   "cell_type": "code",
   "execution_count": 8,
   "metadata": {},
   "outputs": [
    {
     "name": "stdout",
     "output_type": "stream",
     "text": [
      "Model: \"sequential_2\"\n",
      "_________________________________________________________________\n",
      "Layer (type)                 Output Shape              Param #   \n",
      "=================================================================\n",
      "conv2d_7 (Conv2D)            (None, 224, 224, 128)     1280      \n",
      "_________________________________________________________________\n",
      "average_pooling2d_2 (Average (None, 112, 112, 128)     0         \n",
      "_________________________________________________________________\n",
      "conv2d_8 (Conv2D)            (None, 56, 56, 256)       295168    \n",
      "_________________________________________________________________\n",
      "max_pooling2d_4 (MaxPooling2 (None, 28, 28, 256)       0         \n",
      "_________________________________________________________________\n",
      "conv2d_9 (Conv2D)            (None, 13, 13, 256)       590080    \n",
      "_________________________________________________________________\n",
      "max_pooling2d_5 (MaxPooling2 (None, 6, 6, 256)         0         \n",
      "_________________________________________________________________\n",
      "conv2d_10 (Conv2D)           (None, 3, 3, 256)         590080    \n",
      "_________________________________________________________________\n",
      "max_pooling2d_6 (MaxPooling2 (None, 1, 1, 256)         0         \n",
      "_________________________________________________________________\n",
      "conv2d_11 (Conv2D)           (None, 1, 1, 256)         590080    \n",
      "_________________________________________________________________\n",
      "flatten_2 (Flatten)          (None, 256)               0         \n",
      "_________________________________________________________________\n",
      "dense_8 (Dense)              (None, 256)               65792     \n",
      "_________________________________________________________________\n",
      "dense_9 (Dense)              (None, 128)               32896     \n",
      "_________________________________________________________________\n",
      "dense_10 (Dense)             (None, 128)               16512     \n",
      "_________________________________________________________________\n",
      "dense_11 (Dense)             (None, 1)                 129       \n",
      "=================================================================\n",
      "Total params: 2,182,017\n",
      "Trainable params: 2,182,017\n",
      "Non-trainable params: 0\n",
      "_________________________________________________________________\n"
     ]
    }
   ],
   "source": [
    "model.summary()"
   ]
  },
  {
   "cell_type": "code",
   "execution_count": 9,
   "metadata": {},
   "outputs": [],
   "source": [
    "from tensorflow.keras.optimizers import Nadam\n",
    "model.compile(optimizer = Nadam(.001),loss='binary_crossentropy',metrics=['accuracy'])"
   ]
  },
  {
   "cell_type": "code",
   "execution_count": 88,
   "metadata": {},
   "outputs": [
    {
     "name": "stdout",
     "output_type": "stream",
     "text": [
      "Epoch 1/3\n",
      "148/148 [==============================] - 22s 142ms/step - loss: 0.6963 - accuracy: 0.5280 - val_loss: 0.6932 - val_accuracy: 0.5000\n",
      "Epoch 2/3\n",
      "148/148 [==============================] - 21s 142ms/step - loss: 0.6936 - accuracy: 0.5031 - val_loss: 0.6932 - val_accuracy: 0.5000\n",
      "Epoch 3/3\n",
      "148/148 [==============================] - 22s 147ms/step - loss: 0.6941 - accuracy: 0.4612 - val_loss: 0.6932 - val_accuracy: 0.5000\n"
     ]
    }
   ],
   "source": [
    "history = model.fit(train_im,validation_data=validation_im,epochs=3,batch_size =5)"
   ]
  },
  {
   "cell_type": "code",
   "execution_count": 82,
   "metadata": {},
   "outputs": [],
   "source": [
    "model = Sequential()\n",
    "model.add(Conv2D(128,(3,3),activation='selu', padding = \"same\", kernel_initializer = \"random_normal\",\n",
    "                input_shape=(224, 224,1)))\n",
    "model.add(AveragePooling2D(pool_size=(2, 2),strides=(2,2)))\n",
    "model.add(Conv2D(256,(3,3),strides=(2,2),activation='selu',padding = \"same\", kernel_initializer = \"random_normal\"))\n",
    "model.add(MaxPooling2D(strides=(2,2)))\n",
    "model.add(Conv2D(128,(3,3),strides=(2,2),activation='selu',padding = \"same\", kernel_initializer = \"he_normal\"))\n",
    "model.add(MaxPooling2D(strides=(2,2)))\n",
    "model.add(Conv2D(128,(3,3),strides=(2,2),activation='selu',padding = \"same\", kernel_initializer = \"he_normal\"))\n",
    "model.add(MaxPooling2D(strides=(2,2)))\n",
    "model.add(Conv2D(64,(3,3),strides=(2,2),activation='selu',padding = \"same\", kernel_initializer = \"he_normal\"))\n",
    "        \n",
    "model.add(Flatten())\n",
    "model.add(Dense(32, activation = \"relu\"))\n",
    "model.add(Dense(4, activation = \"relu\"))\n",
    "model.add(Dense(1, activation = \"softmax\"))"
   ]
  },
  {
   "cell_type": "code",
   "execution_count": 10,
   "metadata": {},
   "outputs": [],
   "source": [
    "from tensorflow.keras.optimizers import Nadam\n",
    "model.compile(optimizer = Nadam(.001),loss='binary_crossentropy',metrics=['accuracy'])"
   ]
  },
  {
   "cell_type": "code",
   "execution_count": null,
   "metadata": {},
   "outputs": [],
   "source": [
    "history = model.fit(train_im,validation_data=validation_im,epochs=3,batch_size =5)"
   ]
  }
 ],
 "metadata": {
  "kernelspec": {
   "display_name": "Python 3",
   "language": "python",
   "name": "python3"
  },
  "language_info": {
   "codemirror_mode": {
    "name": "ipython",
    "version": 3
   },
   "file_extension": ".py",
   "mimetype": "text/x-python",
   "name": "python",
   "nbconvert_exporter": "python",
   "pygments_lexer": "ipython3",
   "version": "3.7.6"
  }
 },
 "nbformat": 4,
 "nbformat_minor": 4
}
