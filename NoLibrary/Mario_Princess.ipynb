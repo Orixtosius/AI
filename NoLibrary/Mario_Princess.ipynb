{
 "cells": [
  {
   "cell_type": "code",
   "execution_count": 1,
   "metadata": {},
   "outputs": [],
   "source": [
    "import random\n",
    "import math"
   ]
  },
  {
   "cell_type": "code",
   "execution_count": 2,
   "metadata": {},
   "outputs": [],
   "source": [
    "def generateBoard(x,y):\n",
    "    xP, yP = random.randint(0,x-1), random.randint(0,y-1)\n",
    "    xM, yM = random.randint(0,x-1), random.randint(0,y-1)\n",
    "    while xP == xM and yP == yM:\n",
    "        xM, yM = random.randint(0,x-1), random.randint(0,y-1)\n",
    "    board = [[\"-\" for i in range(x)] for j in range(y)]\n",
    "    board[xP][yP] = \"P\"\n",
    "    board[xM][yM] = \"M\"\n",
    "    return board"
   ]
  },
  {
   "cell_type": "code",
   "execution_count": 3,
   "metadata": {},
   "outputs": [],
   "source": [
    "def printBoard(board):\n",
    "    for line in board:\n",
    "        print(line)"
   ]
  },
  {
   "cell_type": "code",
   "execution_count": 4,
   "metadata": {},
   "outputs": [],
   "source": [
    "def findLocation(board,agent):\n",
    "    for i,line in enumerate(board):\n",
    "        for j,element in enumerate(line):\n",
    "            if element == agent:\n",
    "                return i,j\n",
    "    return -1"
   ]
  },
  {
   "cell_type": "code",
   "execution_count": 5,
   "metadata": {},
   "outputs": [],
   "source": [
    "br = generateBoard(3,3)"
   ]
  },
  {
   "cell_type": "code",
   "execution_count": 6,
   "metadata": {},
   "outputs": [
    {
     "name": "stdout",
     "output_type": "stream",
     "text": [
      "['-', '-', '-']\n",
      "['-', '-', '-']\n",
      "['-', 'M', 'P']\n"
     ]
    }
   ],
   "source": [
    "printBoard(br)"
   ]
  },
  {
   "cell_type": "code",
   "execution_count": 7,
   "metadata": {},
   "outputs": [
    {
     "name": "stdout",
     "output_type": "stream",
     "text": [
      "(2, 2)\n",
      "(2, 1)\n"
     ]
    }
   ],
   "source": [
    "print(findLocation(br,\"P\"))\n",
    "print(findLocation(br,\"M\"))"
   ]
  },
  {
   "cell_type": "code",
   "execution_count": 8,
   "metadata": {},
   "outputs": [],
   "source": [
    "def moveSets(stepNumber):\n",
    "    movement = []\n",
    "    for step in range(stepNumber):\n",
    "        x = random.random()\n",
    "        if x < 0.25:\n",
    "            movement.append(\"left\")\n",
    "        elif x>=0.25 and x<0.5:\n",
    "            movement.append(\"right\")\n",
    "        elif x>=0.5 and x<0.75:\n",
    "            movement.append(\"up\")\n",
    "        else:\n",
    "            movement.append(\"down\")\n",
    "    return movement"
   ]
  },
  {
   "cell_type": "code",
   "execution_count": 30,
   "metadata": {},
   "outputs": [],
   "source": [
    "def generateMove(n):\n",
    "    options = []\n",
    "    for ms in range(n):\n",
    "        stepNumber = random.randint(1,10)\n",
    "        options.append(moveSets(stepNumber))\n",
    "    return options"
   ]
  },
  {
   "cell_type": "code",
   "execution_count": 31,
   "metadata": {},
   "outputs": [],
   "source": [
    "def crossing(chosen,others):\n",
    "    crossed = 0\n",
    "    if chosen == others:\n",
    "        return chosen\n",
    "    if math.ceil(len(chosen)*0.6) > len(others):\n",
    "        crossed = math.ceil(len(others)*0.6)\n",
    "    else:\n",
    "        crossed = math.ceil(len(chosen)*0.6) \n",
    "    for i in range(crossed):\n",
    "        others[i] = chosen[i]\n",
    "    return others"
   ]
  },
  {
   "cell_type": "code",
   "execution_count": 32,
   "metadata": {},
   "outputs": [],
   "source": [
    "def mutation(others, chance):\n",
    "    if chance <= random.random():\n",
    "        mutated = random.randint(0,len(others)-1)\n",
    "        movement = random.randint(0,3)\n",
    "        if movement == 0:\n",
    "            others[mutated] = \"left\"\n",
    "        elif movement == 1:\n",
    "            others[mutated] = \"right\"\n",
    "        elif movement == 1:\n",
    "            others[mutated] = \"up\"\n",
    "        else:\n",
    "            others[mutated] = \"down\"\n",
    "    return others"
   ]
  },
  {
   "cell_type": "code",
   "execution_count": 33,
   "metadata": {},
   "outputs": [],
   "source": [
    "def endPoint(board,moveSets,locM,sizeX,sizeY):\n",
    "    ep = [0 for i in range(1)]*2\n",
    "    ep[0] = locM[0]\n",
    "    ep[1] = locM[1]\n",
    "    for c,move in enumerate(moveSets):\n",
    "        if move == \"left\" and ep[0]-1>=0:\n",
    "            ep[0]-=1\n",
    "        elif move == \"right\" and ep[0]+1<sizeX:\n",
    "            ep[0]+=1\n",
    "        elif move == \"up\" and ep[1]-1>=0:\n",
    "            ep[1]-=1\n",
    "        elif move == \"down\" and ep[0]+1<sizeY:\n",
    "            ep[1]+=1\n",
    "    return ep"
   ]
  },
  {
   "cell_type": "code",
   "execution_count": 34,
   "metadata": {},
   "outputs": [],
   "source": [
    "def score(board,moveSets,locP,locM,sizeX,sizeY):\n",
    "    end = endPoint(board,moveSets,locM,sizeX,sizeY)\n",
    "    distance = ((locP[0]**2 - end[0]**2)**2  + (locP[1]**2 - end[1]**2)**2)**0.5\n",
    "    return sizeX*sizeY/(len(moveSets)*2 + 1 + 4*distance)"
   ]
  },
  {
   "cell_type": "code",
   "execution_count": 35,
   "metadata": {},
   "outputs": [],
   "source": [
    "def selection(board,locP,locM,sizeX,sizeY,options):\n",
    "    chosenScore = 0\n",
    "    chosen = 0\n",
    "    for index,tested in enumerate(options):\n",
    "        candidate = score(board,tested,locP,locM,sizeX,sizeY)\n",
    "        if chosenScore < candidate:\n",
    "            chosenScore = candidate\n",
    "            chosen = index\n",
    "    return chosen, chosenScore"
   ]
  },
  {
   "cell_type": "code",
   "execution_count": 102,
   "metadata": {},
   "outputs": [],
   "source": [
    "def genAl(sizeX,sizeY,n,iteration):\n",
    "    board = generateBoard(sizeX,sizeY)\n",
    "    locM = findLocation(board,\"M\")\n",
    "    locP = findLocation(board,\"P\")\n",
    "    theBest = sizeX*sizeY/(1+2*(abs(locP[0]-locM[0])+abs(locP[1]-locM[1])))\n",
    "    print(\"The best score can be reached :\",theBest)\n",
    "    printBoard(board)\n",
    "    print(\"Mario's Location :\",locM)\n",
    "    print(\"Princess' Location :\",locP)\n",
    "    moveSets = generateMove(n)\n",
    "    for i in range(iteration):\n",
    "        res = selection(br,findLocation(br,\"P\"),findLocation(br,\"M\"),3,3,moveSets)\n",
    "        if res[1] == theBest:\n",
    "            print(\"Operation is terminated with great success at \",i,\"position\")\n",
    "            return res[1]\n",
    "        crossingRes = []\n",
    "        for i in moves:\n",
    "            crossingRes.append(crossing(moves[res[0]],i))\n",
    "        for c,i in enumerate(crossingRes):\n",
    "            crossingRes[c] = mutation(i,0.025)\n",
    "        moveSets = crossingRes\n",
    "    print(\"Operation is terminated success at \",i,\"position\")   \n",
    "    return selection(br,findLocation(br,\"P\"),findLocation(br,\"M\"),3,3,moveSets)[1]"
   ]
  },
  {
   "cell_type": "code",
   "execution_count": 94,
   "metadata": {},
   "outputs": [
    {
     "name": "stdout",
     "output_type": "stream",
     "text": [
      "The best option can be reached : 1.8\n",
      "['-', 'M', '-']\n",
      "['-', '-', 'P']\n",
      "['-', '-', '-']\n",
      "Mario's Location : (0, 1)\n",
      "Princess' Location : (1, 2)\n",
      "Operation is terminated success at  ['left', 'left', 'right'] position\n"
     ]
    },
    {
     "data": {
      "text/plain": [
       "1.2857142857142858"
      ]
     },
     "execution_count": 94,
     "metadata": {},
     "output_type": "execute_result"
    }
   ],
   "source": [
    "genAl(3,3,5,1000)"
   ]
  },
  {
   "cell_type": "code",
   "execution_count": 103,
   "metadata": {},
   "outputs": [
    {
     "name": "stdout",
     "output_type": "stream",
     "text": [
      "The best score can be reached : 1.8\n",
      "['-', '-', 'M']\n",
      "['-', '-', '-']\n",
      "['-', '-', 'P']\n",
      "Mario's Location : (0, 2)\n",
      "Princess' Location : (2, 2)\n",
      "Operation is terminated success at  ['left', 'down', 'right'] position\n",
      "1.2857142857142858\n",
      "----------------------------------------------------------\n",
      "The best score can be reached : 1.8\n",
      "['-', '-', '-']\n",
      "['-', 'P', '-']\n",
      "['M', '-', '-']\n",
      "Mario's Location : (2, 0)\n",
      "Princess' Location : (1, 1)\n",
      "Operation is terminated success at  ['down', 'down', 'down'] position\n",
      "0.6923076923076923\n",
      "----------------------------------------------------------\n",
      "The best score can be reached : 1.0\n",
      "['-', '-', 'M']\n",
      "['-', '-', '-']\n",
      "['P', '-', '-']\n",
      "Mario's Location : (0, 2)\n",
      "Princess' Location : (2, 0)\n",
      "Operation is terminated with great success at  2 position\n",
      "1.0\n",
      "----------------------------------------------------------\n",
      "The best score can be reached : 3.0\n",
      "['-', '-', '-']\n",
      "['M', '-', '-']\n",
      "['P', '-', '-']\n",
      "Mario's Location : (1, 0)\n",
      "Princess' Location : (2, 0)\n",
      "Operation is terminated success at  ['left', 'down', 'right'] position\n",
      "1.2857142857142858\n",
      "----------------------------------------------------------\n",
      "The best score can be reached : 1.8\n",
      "['-', '-', 'M']\n",
      "['-', '-', '-']\n",
      "['-', '-', 'P']\n",
      "Mario's Location : (0, 2)\n",
      "Princess' Location : (2, 2)\n",
      "Operation is terminated success at  ['down', 'left', 'down'] position\n",
      "0.6923076923076923\n",
      "----------------------------------------------------------\n",
      "The best score can be reached : 1.2857142857142858\n",
      "['M', '-', '-']\n",
      "['-', '-', 'P']\n",
      "['-', '-', '-']\n",
      "Mario's Location : (0, 0)\n",
      "Princess' Location : (1, 2)\n",
      "Operation is terminated with great success at  25 position\n",
      "1.2857142857142858\n",
      "----------------------------------------------------------\n",
      "The best score can be reached : 1.2857142857142858\n",
      "['-', '-', 'P']\n",
      "['-', '-', '-']\n",
      "['-', 'M', '-']\n",
      "Mario's Location : (2, 1)\n",
      "Princess' Location : (0, 2)\n",
      "Operation is terminated with great success at  93 position\n",
      "1.2857142857142858\n",
      "----------------------------------------------------------\n",
      "The best score can be reached : 3.0\n",
      "['M', 'P', '-']\n",
      "['-', '-', '-']\n",
      "['-', '-', '-']\n",
      "Mario's Location : (0, 0)\n",
      "Princess' Location : (0, 1)\n",
      "Operation is terminated success at  ['down', 'down', 'down'] position\n",
      "0.6\n",
      "----------------------------------------------------------\n",
      "The best score can be reached : 1.0\n",
      "['P', '-', '-']\n",
      "['-', '-', '-']\n",
      "['-', '-', 'M']\n",
      "Mario's Location : (2, 2)\n",
      "Princess' Location : (0, 0)\n",
      "Operation is terminated with great success at  27 position\n",
      "1.0\n",
      "----------------------------------------------------------\n",
      "The best score can be reached : 1.2857142857142858\n",
      "['P', '-', '-']\n",
      "['-', '-', '-']\n",
      "['-', 'M', '-']\n",
      "Mario's Location : (2, 1)\n",
      "Princess' Location : (0, 0)\n",
      "Operation is terminated with great success at  131 position\n",
      "1.2857142857142858\n",
      "----------------------------------------------------------\n"
     ]
    }
   ],
   "source": [
    "for i in range(10):\n",
    "    counter = 0\n",
    "    res = genAl(3,3,5,1000)\n",
    "    print(res)\n",
    "    print(\"----------------------------------------------------------\")"
   ]
  },
  {
   "cell_type": "code",
   "execution_count": null,
   "metadata": {},
   "outputs": [],
   "source": []
  }
 ],
 "metadata": {
  "kernelspec": {
   "display_name": "Python 3",
   "language": "python",
   "name": "python3"
  },
  "language_info": {
   "codemirror_mode": {
    "name": "ipython",
    "version": 3
   },
   "file_extension": ".py",
   "mimetype": "text/x-python",
   "name": "python",
   "nbconvert_exporter": "python",
   "pygments_lexer": "ipython3",
   "version": "3.7.6"
  }
 },
 "nbformat": 4,
 "nbformat_minor": 4
}
