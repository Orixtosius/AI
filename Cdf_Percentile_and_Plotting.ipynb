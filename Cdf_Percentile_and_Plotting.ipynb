{
  "nbformat": 4,
  "nbformat_minor": 0,
  "metadata": {
    "colab": {
      "name": "Cdf/Percentile and Plotting",
      "provenance": [],
      "authorship_tag": "ABX9TyP1HL/iBUI+bF6EOyJ0oY0U"
    },
    "kernelspec": {
      "name": "python3",
      "display_name": "Python 3"
    },
    "language_info": {
      "name": "python"
    }
  },
  "cells": [
    {
      "cell_type": "code",
      "execution_count": 137,
      "metadata": {
        "colab": {
          "base_uri": "https://localhost:8080/",
          "height": 339
        },
        "id": "9K09YidqmJKf",
        "outputId": "74b3a64b-f7ae-4309-e12b-3147e44984f8"
      },
      "outputs": [
        {
          "output_type": "error",
          "ename": "ImportError",
          "evalue": "ignored",
          "traceback": [
            "\u001b[0;31m---------------------------------------------------------------------------\u001b[0m",
            "\u001b[0;31mImportError\u001b[0m                               Traceback (most recent call last)",
            "\u001b[0;32m<ipython-input-137-5a68ec6a8c6b>\u001b[0m in \u001b[0;36m<module>\u001b[0;34m()\u001b[0m\n\u001b[1;32m      4\u001b[0m \u001b[0;32mimport\u001b[0m \u001b[0mpandas\u001b[0m \u001b[0;32mas\u001b[0m \u001b[0mpd\u001b[0m\u001b[0;34m\u001b[0m\u001b[0;34m\u001b[0m\u001b[0m\n\u001b[1;32m      5\u001b[0m \u001b[0mnp\u001b[0m\u001b[0;34m.\u001b[0m\u001b[0mrandom\u001b[0m\u001b[0;34m.\u001b[0m\u001b[0mseed\u001b[0m\u001b[0;34m(\u001b[0m\u001b[0;36m0\u001b[0m\u001b[0;34m)\u001b[0m\u001b[0;34m\u001b[0m\u001b[0;34m\u001b[0m\u001b[0m\n\u001b[0;32m----> 6\u001b[0;31m \u001b[0;32mfrom\u001b[0m \u001b[0mmath\u001b[0m \u001b[0;32mimport\u001b[0m \u001b[0mround\u001b[0m\u001b[0;34m\u001b[0m\u001b[0;34m\u001b[0m\u001b[0m\n\u001b[0m",
            "\u001b[0;31mImportError\u001b[0m: cannot import name 'round' from 'math' (unknown location)",
            "",
            "\u001b[0;31m---------------------------------------------------------------------------\u001b[0;32m\nNOTE: If your import is failing due to a missing package, you can\nmanually install dependencies using either !pip or !apt.\n\nTo view examples of installing some common dependencies, click the\n\"Open Examples\" button below.\n\u001b[0;31m---------------------------------------------------------------------------\u001b[0m\n"
          ],
          "errorDetails": {
            "actions": [
              {
                "action": "open_url",
                "actionText": "Open Examples",
                "url": "/notebooks/snippets/importing_libraries.ipynb"
              }
            ]
          }
        }
      ],
      "source": [
        "import numpy as np\n",
        "import matplotlib.pyplot as plt\n",
        "from scipy.stats import norm\n",
        "import pandas as pd\n",
        "np.random.seed(0)"
      ]
    },
    {
      "cell_type": "code",
      "source": [
        "mu = 170\n",
        "sd = 10"
      ],
      "metadata": {
        "id": "ogXexJinmcJQ"
      },
      "execution_count": 2,
      "outputs": []
    },
    {
      "cell_type": "code",
      "source": [
        "x = norm.rvs(loc=mu, scale=sd, size=50)\n",
        "df = pd.DataFrame(x, columns = ['Heights'])\n",
        "heights = df.Heights"
      ],
      "metadata": {
        "id": "315RTNAcmgcg"
      },
      "execution_count": 41,
      "outputs": []
    },
    {
      "cell_type": "code",
      "source": [
        "mu_height = x.mean()"
      ],
      "metadata": {
        "id": "uBXVQjTRmnr9"
      },
      "execution_count": 101,
      "outputs": []
    },
    {
      "cell_type": "code",
      "source": [
        "fig, ax = plt.subplots(figsize = (6,4))\n",
        "plt.style.use(\"bmh\")\n",
        "\n",
        "\n",
        "heights.plot(kind = 'hist', bins = 15, density = True, alpha = 0.65)\n",
        "heights.plot(kind = 'kde')\n",
        "ax.axvline(mu_height, alpha = 1, ymax = .8, color = 'yellow', linestyle = \"--\")\n",
        "ax.text(mu_height - 3.5, 0.06, \"Mean\", size = 12, alpha = .9, color = 'brown') \n",
        "\n",
        "ax.axvline(percAt95, alpha = 1, ymax = .8, color = 'brown', linestyle = \"-.\")\n",
        "ax.text(percAt95 - 3.5, 0.06, f'{percAt95:.3f} at 95th Percetile', size = 12, alpha = .9, color = 'brown') \n",
        "\n",
        "quant_5, quant_25, quant_50, quant_75, quant_95 = heights.quantile(0.05), heights.quantile(0.25), heights.quantile(0.5), heights.quantile(0.75), heights.quantile(0.95)\n",
        "\n",
        "quants = [[quant_5, 0.6, 0.16], [quant_25, 0.8, 0.26], [quant_50, 1, 0.36],  [quant_75, 0.8, 0.46], [quant_95, 0.6, 0.56]]\n",
        "\n",
        "for i in quants:\n",
        "    ax.axvline(i[0], alpha = i[1], ymax = i[2], linestyle = \":\")\n",
        "\n",
        "\n",
        "ax.set_yticks([])\n",
        "ax.set_xlabel(\"Average Height (cm)\")\n",
        "\n",
        "ax.set_ylabel(\"\")\n",
        "\n",
        "ax.text(quant_5 - 2.0, 0.013, \"5th\", size = 11, alpha = 0.8)\n",
        "ax.text(quant_25 - 3.5, 0.02, \"25th\", size = 11, alpha = 0.85)\n",
        "ax.text(quant_50 - 2.5, 0.027, \"50th\", size = 11, alpha = 1)\n",
        "ax.text(quant_75- 3.0, 0.033, \"75th\", size = 11, alpha = 0.85)\n",
        "ax.text(quant_95- 2.5, 0.04, \"95th Percentile\", size = 12, alpha =1)\n",
        "\n",
        "\n",
        "ax.set_title('Heights of Student', size = 17, pad = 10)\n",
        "ax.grid(False)\n",
        "\n",
        "ax.tick_params(left = False, bottom = False)\n",
        "for ax, spine in ax.spines.items():\n",
        "    spine.set_visible(False)\n",
        "\n",
        "\n",
        "plt.show()"
      ],
      "metadata": {
        "colab": {
          "base_uri": "https://localhost:8080/",
          "height": 303
        },
        "id": "rUvRzK97kWb0",
        "outputId": "6a7abc78-f0a8-43a5-9936-d7f9438ed110"
      },
      "execution_count": 142,
      "outputs": [
        {
          "output_type": "display_data",
          "data": {
            "text/plain": [
              "<Figure size 432x288 with 1 Axes>"
            ],
            "image/png": "[encoded data removed]"
          },
          "metadata": {
            "needs_background": "light"
          }
        }
      ]
    },
    {
      "cell_type": "code",
      "source": [
        "mu_var = x.var()"
      ],
      "metadata": {
        "id": "4IakQ0f7mysT"
      },
      "execution_count": 102,
      "outputs": []
    },
    {
      "cell_type": "code",
      "source": [
        "((x - x.mean())**2).mean()"
      ],
      "metadata": {
        "colab": {
          "base_uri": "https://localhost:8080/"
        },
        "id": "LG32aI9dm12n",
        "outputId": "0dd4418f-98cf-4ec1-efaa-c8ae389e3918"
      },
      "execution_count": 8,
      "outputs": [
        {
          "output_type": "execute_result",
          "data": {
            "text/plain": [
              "62.073290390021214"
            ]
          },
          "metadata": {},
          "execution_count": 8
        }
      ]
    },
    {
      "cell_type": "code",
      "source": [
        "x.std()"
      ],
      "metadata": {
        "colab": {
          "base_uri": "https://localhost:8080/"
        },
        "id": "VF9MGJrsm-Cj",
        "outputId": "023f096e-0401-4ee7-da5e-7883af9cc41d"
      },
      "execution_count": 9,
      "outputs": [
        {
          "output_type": "execute_result",
          "data": {
            "text/plain": [
              "7.8786604438839225"
            ]
          },
          "metadata": {},
          "execution_count": 9
        }
      ]
    },
    {
      "cell_type": "code",
      "source": [
        "x.var(ddof=1)"
      ],
      "metadata": {
        "colab": {
          "base_uri": "https://localhost:8080/"
        },
        "id": "46PLzxi1nF-r",
        "outputId": "7f94147f-586f-4ae1-c9b6-b1c57533db4b"
      },
      "execution_count": 12,
      "outputs": [
        {
          "output_type": "execute_result",
          "data": {
            "text/plain": [
              "63.34009223471552"
            ]
          },
          "metadata": {},
          "execution_count": 12
        }
      ]
    },
    {
      "cell_type": "code",
      "source": [
        "x.std(ddof=1)"
      ],
      "metadata": {
        "colab": {
          "base_uri": "https://localhost:8080/"
        },
        "id": "Ee9x7SuLnNA_",
        "outputId": "b1067d2f-4a69-45c2-d84a-2d46919b50f7"
      },
      "execution_count": 11,
      "outputs": [
        {
          "output_type": "execute_result",
          "data": {
            "text/plain": [
              "7.958648895052194"
            ]
          },
          "metadata": {},
          "execution_count": 11
        }
      ]
    },
    {
      "cell_type": "code",
      "source": [
        "((x - x.mean())**2).sum() / (len(x)-1)"
      ],
      "metadata": {
        "colab": {
          "base_uri": "https://localhost:8080/"
        },
        "id": "MKU45hF1nRMS",
        "outputId": "3f337050-ad77-46c0-cc7f-d3b675e052b5"
      },
      "execution_count": 13,
      "outputs": [
        {
          "output_type": "execute_result",
          "data": {
            "text/plain": [
              "63.34009223471552"
            ]
          },
          "metadata": {},
          "execution_count": 13
        }
      ]
    },
    {
      "cell_type": "code",
      "source": [
        "percAt95 = norm.ppf(0.95, loc=mu, scale=sd)"
      ],
      "metadata": {
        "id": "gRlz4SdnnjfN"
      },
      "execution_count": 134,
      "outputs": []
    },
    {
      "cell_type": "code",
      "source": [
        "norm.cdf(160, loc=mu, scale=sd)"
      ],
      "metadata": {
        "colab": {
          "base_uri": "https://localhost:8080/"
        },
        "id": "IIEUwL8rnn0g",
        "outputId": "8d188422-38c3-40f4-e656-1c2e5a67d544"
      },
      "execution_count": 17,
      "outputs": [
        {
          "output_type": "execute_result",
          "data": {
            "text/plain": [
              "0.07656372550983476"
            ]
          },
          "metadata": {},
          "execution_count": 17
        }
      ]
    },
    {
      "cell_type": "code",
      "source": [
        "1 - norm.cdf(180, loc=mu, scale=sd)"
      ],
      "metadata": {
        "colab": {
          "base_uri": "https://localhost:8080/"
        },
        "id": "6kEIhUsvnuaw",
        "outputId": "0dedac28-4a4e-4698-c4cf-a0c2f59a114f"
      },
      "execution_count": 18,
      "outputs": [
        {
          "output_type": "execute_result",
          "data": {
            "text/plain": [
              "0.07656372550983481"
            ]
          },
          "metadata": {},
          "execution_count": 18
        }
      ]
    },
    {
      "cell_type": "code",
      "source": [
        "norm.sf(180, loc=mu, scale=sd)"
      ],
      "metadata": {
        "colab": {
          "base_uri": "https://localhost:8080/"
        },
        "id": "dXvEj-sxn0Zv",
        "outputId": "2ff0f918-0d97-4682-9040-db2f63b8f773"
      },
      "execution_count": 19,
      "outputs": [
        {
          "output_type": "execute_result",
          "data": {
            "text/plain": [
              "0.07656372550983476"
            ]
          },
          "metadata": {},
          "execution_count": 19
        }
      ]
    }
  ]
}